{
    "cells": [
        {
            "cell_type": "markdown",
            "metadata": {},
            "source": "## Battle of Neighbourhoods | Business Problem"
        },
        {
            "cell_type": "markdown",
            "metadata": {},
            "source": "## Introduction :"
        },
        {
            "cell_type": "markdown",
            "metadata": {},
            "source": "The purpose of this project is to help in exploring better facilities around the neighborhood. It will help people making smart and efficient decision on selecting great neighborhood out of numbers of other neighborhoods in Scarborough, Toronto.\n\nLots of people are migrating to various states of Canada and needed lots of research for good housing prices and reputated schools for their children. This project is for those people who are looking for better neighborhoods in orderto have easy access to Cafe, School, Super market, medical shops, grocery shops, mall, theatre, hospital.\n\nThe aim of the project is to create an analysis of features for the people migrating to Scarborough to search a best neighborhood as a comparative analysis between neighborhoods. The features include median housing price and better school in terms of ratings, crime rates of that particular area, road connectivity, weather conditions, good management for emergency, water resources both freash and waste water and excrement conveyed in sewers and recreational facilities.\n\nIt will help people in increasing their awareness of the area and neighborhood before moving to a new city, state, country or place for their work or to start a new fresh life."
        },
        {
            "cell_type": "markdown",
            "metadata": {},
            "source": "## Solving the problems :"
        },
        {
            "cell_type": "markdown",
            "metadata": {},
            "source": "As mentioned above, we will work on the project to solve the multiple problems faced by people in terms of how unaware they are about the surrounding places.The major purpose of this project, is to suggest a better neighborhood in a new city for the person who are shifting there. We will do it by clustering the views of like minded people, who have provided their reviews and insights about a location.\n\n1. Knowledge about housing prices are one of the ways of finding a location suitable for a new person's living. We will work on this.\n2. People want to know and think a lot about the schools in an area where their children can go for gaining education. We will analyse the location and fees of schools based on ratings and reviews provided by other like minded people."
        },
        {
            "cell_type": "markdown",
            "metadata": {},
            "source": "## Location :"
        },
        {
            "cell_type": "markdown",
            "metadata": {},
            "source": "Scarborough is a popular destination for new immigrants in Canada to reside. As a result, it is one of the most diverse and multicultural areas in the Greater Toronto Area, being home to various religious groups and places of worship. Although immigration has become a hot topic over the past few years with more governments seeking more restrictions on immigrants and refugees, the general trend of immigration into Canada has been one of on the rise."
        },
        {
            "cell_type": "markdown",
            "metadata": {},
            "source": "## Data Source :"
        },
        {
            "cell_type": "markdown",
            "metadata": {},
            "source": "This project would use Four-square API as its prime data gathering source as it has a database of millions of places, especially their places API which provides the ability to perform location search, location sharing and details about a business."
        },
        {
            "cell_type": "markdown",
            "metadata": {},
            "source": "## Work Flow :"
        },
        {
            "cell_type": "markdown",
            "metadata": {},
            "source": "Using credentials of Foursquare API features of near-by places of the neighborhoods would be mined. Due to http request limitations the number of places per neighborhood parameter would reasonably be set to 100 and the radius parameter would be set to 500."
        },
        {
            "cell_type": "markdown",
            "metadata": {},
            "source": "## Approach :"
        },
        {
            "cell_type": "markdown",
            "metadata": {},
            "source": "To compare the similarities of two cities, we decided to explore neighborhoods, segment them, and group them into clusters to find similar neighborhoods in a big city like New York and Toronto. To be able to do that, we need to cluster data which is a form of unsupervised machine learning: k-means clustering algorithm."
        },
        {
            "cell_type": "markdown",
            "metadata": {},
            "source": "## Libraries :"
        },
        {
            "cell_type": "markdown",
            "metadata": {},
            "source": "Pandas: For creating and manipulating dataframes.\n\nFolium: Python visualization library would be used to visualize the neighborhoods cluster distribution of using interactive leaflet map.\n\nScikit Learn: For importing k-means clustering.\n\nJSON: Library to handle JSON files.\n\nXML: To separate data from presentation and XML stores data in plain text format.\n\nGeocoder: To retrieve Location Data.\n\nBeautiful Soup and Requests: To scrap and library to handle http requests.\n\nMatplotlib: Python Plotting Module."
        }
    ],
    "metadata": {
        "kernelspec": {
            "display_name": "Python 3.7",
            "language": "python",
            "name": "python3"
        },
        "language_info": {
            "codemirror_mode": {
                "name": "ipython",
                "version": 3
            },
            "file_extension": ".py",
            "mimetype": "text/x-python",
            "name": "python",
            "nbconvert_exporter": "python",
            "pygments_lexer": "ipython3",
            "version": "3.7.10"
        }
    },
    "nbformat": 4,
    "nbformat_minor": 1
}